{
 "cells": [
  {
   "cell_type": "markdown",
   "metadata": {
    "id": "R3ybewMsw9oH",
    "pycharm": {
     "name": "#%% md\n"
    }
   },
   "source": [
    "\n",
    "\n",
    "1. Обучить, нейронную сеть на Keras на датасете MNIST."
   ]
  },
  {
   "cell_type": "code",
   "execution_count": 1,
   "metadata": {
    "id": "BdtNDP-W6TJi",
    "pycharm": {
     "name": "#%%\n"
    }
   },
   "outputs": [],
   "source": [
    "import numpy as np\n",
    "import pandas as pd\n",
    "import mnist\n",
    "import keras\n",
    "from keras.datasets import fashion_mnist\n",
    "from keras.models import Sequential\n",
    "from keras.layers import Dense, Flatten\n",
    "from keras.utils import to_categorical\n",
    "#from scikeras.wrappers import KerasClassifier\n",
    "from sklearn.model_selection import GridSearchCV"
   ]
  },
  {
   "cell_type": "markdown",
   "metadata": {
    "id": "4nVS-PJkBfmC",
    "pycharm": {
     "name": "#%% md\n"
    }
   },
   "source": []
  },
  {
   "cell_type": "code",
   "execution_count": 2,
   "metadata": {
    "id": "pf6Pmdodye4q",
    "pycharm": {
     "name": "#%%\n"
    }
   },
   "outputs": [],
   "source": [
    "from scikeras.wrappers import KerasClassifier"
   ]
  },
  {
   "cell_type": "markdown",
   "metadata": {
    "id": "7mUHxbyoIDyA",
    "pycharm": {
     "name": "#%% md\n"
    }
   },
   "source": [
    "### Building model for digit recognition"
   ]
  },
  {
   "cell_type": "code",
   "execution_count": 3,
   "metadata": {
    "id": "AGaj-oayW29B",
    "pycharm": {
     "name": "#%%\n"
    }
   },
   "outputs": [],
   "source": [
    "#import images\n",
    "train_images = mnist.train_images()\n",
    "train_labels = mnist.train_labels()\n",
    "test_images = mnist.test_images()\n",
    "test_labels = mnist.test_labels()\n",
    "\n",
    "# Normalize the images.\n",
    "train_images = (train_images / 255)\n",
    "test_images = (test_images / 255)\n",
    "\n",
    "# Flatten the images.\n",
    "train_images = train_images.reshape((-1, 784))\n",
    "test_images = test_images.reshape((-1, 784))"
   ]
  },
  {
   "cell_type": "code",
   "execution_count": 4,
   "metadata": {
    "colab": {
     "base_uri": "https://localhost:8080/",
     "height": 552
    },
    "id": "Zg4q7nst6lva",
    "outputId": "20c3d61d-74ac-4501-97ea-b9199c816926",
    "pycharm": {
     "name": "#%%\n"
    }
   },
   "outputs": [
    {
     "data": {
      "text/plain": "array([[0., 0., 0., ..., 0., 0., 0.],\n       [1., 0., 0., ..., 0., 0., 0.],\n       [0., 0., 0., ..., 0., 0., 0.],\n       ...,\n       [0., 0., 0., ..., 0., 0., 0.],\n       [0., 0., 0., ..., 0., 0., 0.],\n       [0., 0., 0., ..., 0., 1., 0.]], dtype=float32)"
     },
     "execution_count": 4,
     "metadata": {},
     "output_type": "execute_result"
    },
    {
     "data": {
      "text/plain": "<Figure size 640x480 with 1 Axes>",
      "image/png": "[encoded data removed]"
     },
     "metadata": {},
     "output_type": "display_data"
    }
   ],
   "source": [
    "import matplotlib.pyplot as plt\n",
    "plt.imshow(mnist.train_images()[0]/255)\n",
    "mnist.train_images()[1]/255\n",
    "to_categorical(train_labels)\n",
    "#train_labels"
   ]
  },
  {
   "cell_type": "code",
   "execution_count": 5,
   "metadata": {
    "id": "z_EEVFIRcupN",
    "pycharm": {
     "name": "#%%\n"
    }
   },
   "outputs": [],
   "source": [
    "input_shape = (28, 28, 1)"
   ]
  },
  {
   "cell_type": "code",
   "execution_count": 6,
   "metadata": {
    "colab": {
     "base_uri": "https://localhost:8080/"
    },
    "id": "h2z59k90iFdD",
    "outputId": "7d05166a-04bc-4d46-d46c-30c5a98a10ed",
    "pycharm": {
     "name": "#%%\n"
    }
   },
   "outputs": [
    {
     "name": "stdout",
     "output_type": "stream",
     "text": [
      "Downloading data from https://storage.googleapis.com/tensorflow/tf-keras-datasets/mnist.npz\n",
      "11490434/11490434 [==============================] - 15s 1us/step\n"
     ]
    }
   ],
   "source": [
    "(x_train, y_train), (x_test, y_test) = keras.datasets.mnist.load_data()"
   ]
  },
  {
   "cell_type": "code",
   "execution_count": 7,
   "metadata": {
    "id": "suqW3jfOjcqg",
    "pycharm": {
     "name": "#%%\n"
    }
   },
   "outputs": [],
   "source": [
    "x_train = x_train / 255\n",
    "x_test = x_test / 255"
   ]
  },
  {
   "cell_type": "code",
   "execution_count": 8,
   "metadata": {
    "id": "cPfcJTy6k1by",
    "pycharm": {
     "name": "#%%\n"
    }
   },
   "outputs": [],
   "source": [
    "y_train_cat = keras.utils.to_categorical(y_train, 10)\n",
    "y_test_cat = keras.utils.to_categorical(y_test, 10)"
   ]
  },
  {
   "cell_type": "markdown",
   "metadata": {
    "id": "x--iwIAFGIOp",
    "pycharm": {
     "name": "#%% md\n"
    }
   },
   "source": []
  },
  {
   "cell_type": "code",
   "execution_count": 9,
   "metadata": {
    "id": "p9Jhmk5SjnAF",
    "pycharm": {
     "name": "#%%\n"
    }
   },
   "outputs": [],
   "source": [
    "model_2 = keras.Sequential([\n",
    "\n",
    "    keras.Input(shape=input_shape),\n",
    "    Flatten(),\n",
    "    Dense(90, activation = 'relu'),\n",
    "    Dense(60, activation = 'relu'),\n",
    "    Dense(10, activation = 'softmax')\n",
    "    ] )"
   ]
  },
  {
   "cell_type": "code",
   "execution_count": 10,
   "metadata": {
    "id": "Md6Uo7mUjsOZ",
    "pycharm": {
     "name": "#%%\n"
    }
   },
   "outputs": [],
   "source": [
    "model_2.compile(optimizer='RMSprop',\n",
    "             loss='categorical_crossentropy',\n",
    "             metrics=['accuracy'])"
   ]
  },
  {
   "cell_type": "code",
   "execution_count": 11,
   "metadata": {
    "colab": {
     "base_uri": "https://localhost:8080/"
    },
    "id": "Yx0YHJ6xjwqg",
    "outputId": "47cf0dbf-1220-4f6e-a727-fc9a1988cc3c",
    "pycharm": {
     "name": "#%%\n"
    }
   },
   "outputs": [
    {
     "name": "stdout",
     "output_type": "stream",
     "text": [
      "Epoch 1/10\n",
      "120/120 [==============================] - 1s 4ms/step - loss: 0.5711 - accuracy: 0.8478\n",
      "Epoch 2/10\n",
      "120/120 [==============================] - 0s 4ms/step - loss: 0.2318 - accuracy: 0.9333\n",
      "Epoch 3/10\n",
      "120/120 [==============================] - 1s 4ms/step - loss: 0.1764 - accuracy: 0.9479\n",
      "Epoch 4/10\n",
      "120/120 [==============================] - 1s 4ms/step - loss: 0.1413 - accuracy: 0.9590\n",
      "Epoch 5/10\n",
      "120/120 [==============================] - 0s 4ms/step - loss: 0.1183 - accuracy: 0.9654\n",
      "Epoch 6/10\n",
      "120/120 [==============================] - 0s 4ms/step - loss: 0.1023 - accuracy: 0.9700\n",
      "Epoch 7/10\n",
      "120/120 [==============================] - 0s 4ms/step - loss: 0.0880 - accuracy: 0.9735\n",
      "Epoch 8/10\n",
      "120/120 [==============================] - 1s 5ms/step - loss: 0.0775 - accuracy: 0.9773\n",
      "Epoch 9/10\n",
      "120/120 [==============================] - 1s 4ms/step - loss: 0.0684 - accuracy: 0.9793\n",
      "Epoch 10/10\n",
      "120/120 [==============================] - 1s 5ms/step - loss: 0.0616 - accuracy: 0.9820\n",
      "CPU times: total: 14.3 s\n",
      "Wall time: 5.87 s\n"
     ]
    }
   ],
   "source": [
    "%%time\n",
    "\n",
    "history = model_2.fit(x_train, y_train_cat, batch_size=500, epochs=10)"
   ]
  },
  {
   "cell_type": "code",
   "execution_count": 12,
   "metadata": {
    "colab": {
     "base_uri": "https://localhost:8080/",
     "height": 472
    },
    "id": "jDJppettvbY9",
    "outputId": "acfb6254-91aa-404a-ae2d-4b6769fe790e",
    "pycharm": {
     "name": "#%%\n"
    }
   },
   "outputs": [
    {
     "data": {
      "text/plain": "<Figure size 640x480 with 1 Axes>",
      "image/png": "[encoded data removed]"
     },
     "metadata": {},
     "output_type": "display_data"
    }
   ],
   "source": [
    "plt.plot(history.history['accuracy'])\n",
    "plt.title('Точность модели')\n",
    "plt.ylabel('точность')\n",
    "plt.xlabel('количество эпох')\n",
    "plt.show()"
   ]
  },
  {
   "cell_type": "code",
   "execution_count": 13,
   "metadata": {
    "colab": {
     "base_uri": "https://localhost:8080/",
     "height": 472
    },
    "id": "m5yR5Fk9vrn_",
    "outputId": "b3d8cad3-c3ef-4885-82bc-cd6ac5055f1a",
    "pycharm": {
     "name": "#%%\n"
    }
   },
   "outputs": [
    {
     "data": {
      "text/plain": "<Figure size 640x480 with 1 Axes>",
      "image/png": "[encoded data removed]"
     },
     "metadata": {},
     "output_type": "display_data"
    }
   ],
   "source": [
    "plt.plot(history.history['loss'])\n",
    "plt.title('Потери модели')\n",
    "plt.ylabel('Потери')\n",
    "plt.xlabel('количество эпох')\n",
    "plt.show()"
   ]
  },
  {
   "cell_type": "code",
   "execution_count": 14,
   "metadata": {
    "colab": {
     "base_uri": "https://localhost:8080/"
    },
    "id": "ac-jdgFDv1P5",
    "outputId": "d4b0222b-96d1-4110-af6f-5fae19ba74c0",
    "pycharm": {
     "name": "#%%\n"
    }
   },
   "outputs": [
    {
     "name": "stdout",
     "output_type": "stream",
     "text": [
      "313/313 [==============================] - 1s 1ms/step - loss: 0.0867 - accuracy: 0.9719\n"
     ]
    },
    {
     "data": {
      "text/plain": "[0.08674494922161102, 0.9718999862670898]"
     },
     "execution_count": 14,
     "metadata": {},
     "output_type": "execute_result"
    }
   ],
   "source": [
    "model_2.evaluate(x_test, y_test_cat)"
   ]
  },
  {
   "cell_type": "code",
   "execution_count": 15,
   "metadata": {
    "colab": {
     "base_uri": "https://localhost:8080/"
    },
    "id": "cVWER4a0wPFW",
    "outputId": "f582c61c-4fae-40ee-9326-1282b0c96292",
    "pycharm": {
     "name": "#%%\n"
    }
   },
   "outputs": [
    {
     "name": "stdout",
     "output_type": "stream",
     "text": [
      "Epoch 1/5\n",
      "1875/1875 [==============================] - 5s 2ms/step - loss: 0.0796 - accuracy: 0.9751 - val_loss: 0.1081 - val_accuracy: 0.9674\n",
      "Epoch 2/5\n",
      "1875/1875 [==============================] - 4s 2ms/step - loss: 0.0673 - accuracy: 0.9793 - val_loss: 0.0869 - val_accuracy: 0.9741\n",
      "Epoch 3/5\n",
      "1875/1875 [==============================] - 4s 2ms/step - loss: 0.0591 - accuracy: 0.9820 - val_loss: 0.0918 - val_accuracy: 0.9728\n",
      "Epoch 4/5\n",
      "1875/1875 [==============================] - 4s 2ms/step - loss: 0.0527 - accuracy: 0.9849 - val_loss: 0.0969 - val_accuracy: 0.9722\n",
      "Epoch 5/5\n",
      "1875/1875 [==============================] - 5s 3ms/step - loss: 0.0451 - accuracy: 0.9865 - val_loss: 0.0914 - val_accuracy: 0.9759\n",
      "CPU times: total: 36 s\n",
      "Wall time: 23.1 s\n"
     ]
    }
   ],
   "source": [
    "%%time\n",
    "\n",
    "history = model_2.fit(x_train, y_train_cat, batch_size=32, epochs=5, validation_data =(x_test, y_test_cat) )"
   ]
  },
  {
   "cell_type": "code",
   "execution_count": 16,
   "metadata": {
    "colab": {
     "base_uri": "https://localhost:8080/",
     "height": 472
    },
    "id": "E_G9rNJ9wbJ8",
    "outputId": "3d13136c-c28a-4089-ad06-b5dd88f123d6",
    "pycharm": {
     "name": "#%%\n"
    }
   },
   "outputs": [
    {
     "data": {
      "text/plain": "<Figure size 640x480 with 1 Axes>",
      "image/png": "[encoded data removed]"
     },
     "metadata": {},
     "output_type": "display_data"
    }
   ],
   "source": [
    "plt.plot(history.history['accuracy'])\n",
    "plt.plot(history.history['val_accuracy'])\n",
    "plt.title('Точность модели')\n",
    "plt.ylabel('точность')\n",
    "plt.xlabel('количество эпох')\n",
    "plt.legend(['train', 'test'], loc='upper left')\n",
    "plt.show()"
   ]
  },
  {
   "cell_type": "code",
   "execution_count": 17,
   "metadata": {
    "colab": {
     "base_uri": "https://localhost:8080/",
     "height": 472
    },
    "id": "LTT06XMpwg7k",
    "outputId": "3d015196-432f-4ff5-838c-c0389f3f63ac",
    "pycharm": {
     "name": "#%%\n"
    }
   },
   "outputs": [
    {
     "data": {
      "text/plain": "<Figure size 640x480 with 1 Axes>",
      "image/png": "[encoded data removed]"
     },
     "metadata": {},
     "output_type": "display_data"
    }
   ],
   "source": [
    "plt.plot(history.history['loss'])\n",
    "plt.plot(history.history['val_loss'])\n",
    "plt.title('Потери модели')\n",
    "plt.ylabel('Потери')\n",
    "plt.xlabel('количество эпох')\n",
    "plt.legend(['train', 'test'], loc='upper left')\n",
    "plt.show()"
   ]
  },
  {
   "cell_type": "code",
   "execution_count": 18,
   "metadata": {
    "colab": {
     "base_uri": "https://localhost:8080/",
     "height": 465
    },
    "id": "NV4rUD5OwpD1",
    "outputId": "d87ecee5-cc82-4302-bd16-3ac018f0d510",
    "pycharm": {
     "name": "#%%\n"
    }
   },
   "outputs": [
    {
     "data": {
      "text/plain": "<Figure size 640x480 with 1 Axes>",
      "image/png": "[encoded data removed]"
     },
     "metadata": {},
     "output_type": "display_data"
    },
    {
     "name": "stdout",
     "output_type": "stream",
     "text": [
      "1/1 [==============================] - 0s 464ms/step\n",
      "1: 2\n"
     ]
    }
   ],
   "source": [
    "n_rec=35\n",
    "plt.imshow(x_test[n_rec].reshape(28, 28), cmap=plt.cm.binary)\n",
    "plt.show()\n",
    "x = x_test[n_rec]\n",
    "x = np.expand_dims(x, axis=0)\n",
    "\n",
    "prediction = model_2.predict(x)\n",
    "prediction = np.argmax(prediction[0])\n",
    "print(\"1:\", prediction)"
   ]
  },
  {
   "cell_type": "code",
   "execution_count": 19,
   "metadata": {
    "id": "TyAghDELZOVL",
    "pycharm": {
     "name": "#%%\n"
    }
   },
   "outputs": [],
   "source": [
    "# Build the model.\n",
    "def create_model(optimizer='adam'):\n",
    "    model = Sequential([\n",
    "      Dense(64, input_shape=(784,), activation='relu'),\n",
    "      Dense(32, activation='relu'),\n",
    "      Dense(10, activation='softmax')\n",
    "    ])\n",
    "\n",
    "    # Compile the model.\n",
    "    model.compile(\n",
    "      optimizer=optimizer,\n",
    "      loss='categorical_crossentropy',\n",
    "      metrics=['accuracy'],\n",
    "    )\n",
    "    return model"
   ]
  },
  {
   "cell_type": "code",
   "execution_count": 20,
   "metadata": {
    "colab": {
     "base_uri": "https://localhost:8080/"
    },
    "id": "FQOY8_8mb_ZI",
    "outputId": "7cc2de97-ebcc-4d59-cbd3-79d2efa6a978",
    "pycharm": {
     "name": "#%%\n"
    }
   },
   "outputs": [
    {
     "name": "stdout",
     "output_type": "stream",
     "text": [
      "Epoch 1/5\n",
      "1875/1875 [==============================] - 5s 2ms/step - loss: 0.3085 - accuracy: 0.9101\n",
      "Epoch 2/5\n",
      "1875/1875 [==============================] - 4s 2ms/step - loss: 0.1374 - accuracy: 0.9585\n",
      "Epoch 3/5\n",
      "1875/1875 [==============================] - 4s 2ms/step - loss: 0.0994 - accuracy: 0.9704\n",
      "Epoch 4/5\n",
      "1875/1875 [==============================] - 4s 2ms/step - loss: 0.0778 - accuracy: 0.9762\n",
      "Epoch 5/5\n",
      "1875/1875 [==============================] - 4s 2ms/step - loss: 0.0657 - accuracy: 0.9797\n",
      "313/313 [==============================] - 1s 1ms/step - loss: 0.0904 - accuracy: 0.9734\n",
      "**************\n",
      "Loss - 0.09, Metrics - 0.973\n"
     ]
    }
   ],
   "source": [
    "model = create_model()\n",
    "\n",
    "# Train the model.\n",
    "model.fit(train_images, to_categorical(train_labels), epochs=5, batch_size=32)\n",
    "\n",
    "# Evaluate the model.\n",
    "loss,metrics = model.evaluate(test_images, to_categorical(test_labels))\n",
    "print('**************')\n",
    "print(f'Loss - {np.round(loss,2)}, Metrics - {np.round(metrics,3)}')"
   ]
  },
  {
   "cell_type": "code",
   "execution_count": 21,
   "metadata": {
    "colab": {
     "base_uri": "https://localhost:8080/"
    },
    "id": "o4mMjqT1IMoI",
    "outputId": "95edc400-a8e3-4bd4-d31a-71d197bcda6c",
    "pycharm": {
     "name": "#%%\n"
    }
   },
   "outputs": [
    {
     "name": "stdout",
     "output_type": "stream",
     "text": [
      "1/1 [==============================] - 0s 74ms/step\n",
      "Predictions: [7 2 1 0 4 1 4 9 6 9]\n",
      "True labels: [7 2 1 0 4 1 4 9 5 9]\n"
     ]
    }
   ],
   "source": [
    "# Predict on the first 10 test images.\n",
    "predictions = model.predict(test_images[:10])\n",
    "\n",
    "# Print our model's predictions.\n",
    "print(f'Predictions: {np.argmax(predictions, axis=1)}')\n",
    "\n",
    "# Check our predictions against the ground truths.\n",
    "print(f'True labels: {test_labels[:10]}')"
   ]
  },
  {
   "cell_type": "markdown",
   "metadata": {
    "id": "3c1FUM5PIBvC",
    "pycharm": {
     "name": "#%% md\n"
    }
   },
   "source": [
    "### Picking params via GridSearchCV"
   ]
  },
  {
   "cell_type": "code",
   "execution_count": 33,
   "metadata": {
    "id": "nrtdUsU6XxAz",
    "pycharm": {
     "name": "#%%\n"
    }
   },
   "outputs": [],
   "source": [
    "batch_size = [ 500, 1000]\n",
    "epochs = [5, 10]\n",
    "optimizer = ['SGD', 'RMSprop', 'Adam']"
   ]
  },
  {
   "cell_type": "code",
   "execution_count": 34,
   "metadata": {
    "id": "7C8rPHbu3rXr",
    "pycharm": {
     "name": "#%%\n"
    }
   },
   "outputs": [
    {
     "name": "stdout",
     "output_type": "stream",
     "text": [
      "Epoch 1/3\n",
      "625/625 [==============================] - 2s 2ms/step - loss: 0.4079 - accuracy: 0.8838\n",
      "Epoch 2/3\n",
      "625/625 [==============================] - 1s 2ms/step - loss: 0.1890 - accuracy: 0.9456\n",
      "Epoch 3/3\n",
      "625/625 [==============================] - 1s 2ms/step - loss: 0.1457 - accuracy: 0.9571\n",
      "313/313 [==============================] - 1s 1ms/step\n",
      "Epoch 1/3\n",
      "625/625 [==============================] - 2s 2ms/step - loss: 0.3972 - accuracy: 0.8864\n",
      "Epoch 2/3\n",
      "625/625 [==============================] - 2s 2ms/step - loss: 0.1781 - accuracy: 0.9478\n",
      "Epoch 3/3\n",
      "625/625 [==============================] - 1s 2ms/step - loss: 0.1312 - accuracy: 0.9616\n",
      "313/313 [==============================] - 1s 1ms/step\n",
      "Epoch 1/3\n",
      "625/625 [==============================] - 2s 2ms/step - loss: 0.4217 - accuracy: 0.8797\n",
      "Epoch 2/3\n",
      "625/625 [==============================] - 2s 2ms/step - loss: 0.1801 - accuracy: 0.9478\n",
      "Epoch 3/3\n",
      "625/625 [==============================] - 1s 2ms/step - loss: 0.1348 - accuracy: 0.9597\n",
      "313/313 [==============================] - 1s 1ms/step\n",
      "Epoch 1/3\n",
      "625/625 [==============================] - 2s 2ms/step - loss: 0.4038 - accuracy: 0.8864\n",
      "Epoch 2/3\n",
      "625/625 [==============================] - 1s 2ms/step - loss: 0.1797 - accuracy: 0.9474\n",
      "Epoch 3/3\n",
      "625/625 [==============================] - 1s 2ms/step - loss: 0.1375 - accuracy: 0.9587\n",
      "313/313 [==============================] - 1s 1ms/step\n",
      "Epoch 1/3\n",
      "625/625 [==============================] - 2s 2ms/step - loss: 0.4261 - accuracy: 0.8814\n",
      "Epoch 2/3\n",
      "625/625 [==============================] - 1s 2ms/step - loss: 0.1810 - accuracy: 0.9476\n",
      "Epoch 3/3\n",
      "625/625 [==============================] - 1s 2ms/step - loss: 0.1331 - accuracy: 0.9606\n",
      "313/313 [==============================] - 0s 1ms/step\n",
      "Epoch 1/3\n",
      "625/625 [==============================] - 3s 2ms/step - loss: 0.4190 - accuracy: 0.8830\n",
      "Epoch 2/3\n",
      "625/625 [==============================] - 1s 2ms/step - loss: 0.1812 - accuracy: 0.9478\n",
      "Epoch 3/3\n",
      "625/625 [==============================] - 2s 2ms/step - loss: 0.1342 - accuracy: 0.9613\n",
      "313/313 [==============================] - 1s 2ms/step\n",
      "Epoch 1/3\n",
      "625/625 [==============================] - 2s 2ms/step - loss: 0.4258 - accuracy: 0.8776\n",
      "Epoch 2/3\n",
      "625/625 [==============================] - 1s 2ms/step - loss: 0.1928 - accuracy: 0.9439\n",
      "Epoch 3/3\n",
      "625/625 [==============================] - 1s 2ms/step - loss: 0.1447 - accuracy: 0.9573\n",
      "313/313 [==============================] - 0s 1ms/step\n",
      "Epoch 1/3\n",
      "625/625 [==============================] - 2s 2ms/step - loss: 0.4071 - accuracy: 0.8858\n",
      "Epoch 2/3\n",
      "625/625 [==============================] - 1s 2ms/step - loss: 0.1773 - accuracy: 0.9484\n",
      "Epoch 3/3\n",
      "625/625 [==============================] - 1s 2ms/step - loss: 0.1344 - accuracy: 0.9607\n",
      "313/313 [==============================] - 0s 1ms/step\n",
      "Epoch 1/3\n",
      "625/625 [==============================] - 2s 2ms/step - loss: 0.4108 - accuracy: 0.8833\n",
      "Epoch 2/3\n",
      "625/625 [==============================] - 1s 2ms/step - loss: 0.1857 - accuracy: 0.9459\n",
      "Epoch 3/3\n",
      "625/625 [==============================] - 1s 2ms/step - loss: 0.1381 - accuracy: 0.9591\n",
      "313/313 [==============================] - 1s 2ms/step\n",
      "Epoch 1/5\n",
      "625/625 [==============================] - 2s 2ms/step - loss: 0.4001 - accuracy: 0.8877\n",
      "Epoch 2/5\n",
      "625/625 [==============================] - 1s 2ms/step - loss: 0.1829 - accuracy: 0.9459\n",
      "Epoch 3/5\n",
      "625/625 [==============================] - 1s 2ms/step - loss: 0.1384 - accuracy: 0.9590\n",
      "Epoch 4/5\n",
      "625/625 [==============================] - 1s 2ms/step - loss: 0.1107 - accuracy: 0.9675\n",
      "Epoch 5/5\n",
      "625/625 [==============================] - 1s 2ms/step - loss: 0.0918 - accuracy: 0.9722\n",
      "313/313 [==============================] - 0s 1ms/step\n",
      "Epoch 1/5\n",
      "625/625 [==============================] - 2s 2ms/step - loss: 0.4133 - accuracy: 0.8822\n",
      "Epoch 2/5\n",
      "625/625 [==============================] - 1s 2ms/step - loss: 0.1819 - accuracy: 0.9476\n",
      "Epoch 3/5\n",
      "625/625 [==============================] - 1s 2ms/step - loss: 0.1373 - accuracy: 0.9602\n",
      "Epoch 4/5\n",
      "625/625 [==============================] - 1s 2ms/step - loss: 0.1098 - accuracy: 0.9681\n",
      "Epoch 5/5\n",
      "625/625 [==============================] - 1s 2ms/step - loss: 0.0909 - accuracy: 0.9730\n",
      "313/313 [==============================] - 0s 1ms/step\n",
      "Epoch 1/5\n",
      "625/625 [==============================] - 2s 2ms/step - loss: 0.4092 - accuracy: 0.8857\n",
      "Epoch 2/5\n",
      "625/625 [==============================] - 1s 2ms/step - loss: 0.1806 - accuracy: 0.9481\n",
      "Epoch 3/5\n",
      "625/625 [==============================] - 1s 2ms/step - loss: 0.1340 - accuracy: 0.9603\n",
      "Epoch 4/5\n",
      "625/625 [==============================] - 1s 2ms/step - loss: 0.1064 - accuracy: 0.9678\n",
      "Epoch 5/5\n",
      "625/625 [==============================] - 1s 2ms/step - loss: 0.0885 - accuracy: 0.9729\n",
      "313/313 [==============================] - 0s 1ms/step\n",
      "Epoch 1/5\n",
      "625/625 [==============================] - 2s 2ms/step - loss: 0.4263 - accuracy: 0.8811\n",
      "Epoch 2/5\n",
      "625/625 [==============================] - 1s 2ms/step - loss: 0.1761 - accuracy: 0.9487\n",
      "Epoch 3/5\n",
      "625/625 [==============================] - 1s 2ms/step - loss: 0.1320 - accuracy: 0.9603\n",
      "Epoch 4/5\n",
      "625/625 [==============================] - 1s 2ms/step - loss: 0.1063 - accuracy: 0.9683\n",
      "Epoch 5/5\n",
      "625/625 [==============================] - 1s 2ms/step - loss: 0.0869 - accuracy: 0.9733\n",
      "313/313 [==============================] - 0s 1ms/step\n",
      "Epoch 1/5\n",
      "625/625 [==============================] - 2s 2ms/step - loss: 0.4324 - accuracy: 0.8749\n",
      "Epoch 2/5\n",
      "625/625 [==============================] - 1s 2ms/step - loss: 0.1766 - accuracy: 0.9489\n",
      "Epoch 3/5\n",
      "625/625 [==============================] - 1s 2ms/step - loss: 0.1307 - accuracy: 0.9613\n",
      "Epoch 4/5\n",
      "625/625 [==============================] - 1s 2ms/step - loss: 0.1045 - accuracy: 0.9686\n",
      "Epoch 5/5\n",
      "625/625 [==============================] - 1s 2ms/step - loss: 0.0857 - accuracy: 0.9736\n",
      "313/313 [==============================] - 0s 1ms/step\n",
      "Epoch 1/5\n",
      "625/625 [==============================] - 2s 2ms/step - loss: 0.4273 - accuracy: 0.8795\n",
      "Epoch 2/5\n",
      "625/625 [==============================] - 1s 2ms/step - loss: 0.1849 - accuracy: 0.9465\n",
      "Epoch 3/5\n",
      "625/625 [==============================] - 1s 2ms/step - loss: 0.1380 - accuracy: 0.9599\n",
      "Epoch 4/5\n",
      "625/625 [==============================] - 1s 2ms/step - loss: 0.1064 - accuracy: 0.9690\n",
      "Epoch 5/5\n",
      "625/625 [==============================] - 1s 2ms/step - loss: 0.0888 - accuracy: 0.9736\n",
      "313/313 [==============================] - 0s 994us/step\n",
      "Epoch 1/5\n",
      "625/625 [==============================] - 2s 2ms/step - loss: 0.4190 - accuracy: 0.8802\n",
      "Epoch 2/5\n",
      "625/625 [==============================] - 1s 2ms/step - loss: 0.1945 - accuracy: 0.9440\n",
      "Epoch 3/5\n",
      "625/625 [==============================] - 1s 2ms/step - loss: 0.1465 - accuracy: 0.9571\n",
      "Epoch 4/5\n",
      "625/625 [==============================] - 1s 2ms/step - loss: 0.1173 - accuracy: 0.9653\n",
      "Epoch 5/5\n",
      "625/625 [==============================] - 1s 2ms/step - loss: 0.0959 - accuracy: 0.9714\n",
      "313/313 [==============================] - 0s 1ms/step\n",
      "Epoch 1/5\n",
      "625/625 [==============================] - 2s 2ms/step - loss: 0.4097 - accuracy: 0.8816\n",
      "Epoch 2/5\n",
      "625/625 [==============================] - 1s 2ms/step - loss: 0.1787 - accuracy: 0.9474\n",
      "Epoch 3/5\n",
      "625/625 [==============================] - 1s 2ms/step - loss: 0.1306 - accuracy: 0.9613\n",
      "Epoch 4/5\n",
      "625/625 [==============================] - 1s 2ms/step - loss: 0.1049 - accuracy: 0.9691\n",
      "Epoch 5/5\n",
      "625/625 [==============================] - 1s 2ms/step - loss: 0.0861 - accuracy: 0.9732\n",
      "313/313 [==============================] - 0s 1ms/step\n",
      "Epoch 1/5\n",
      "625/625 [==============================] - 2s 2ms/step - loss: 0.4197 - accuracy: 0.8796\n",
      "Epoch 2/5\n",
      "625/625 [==============================] - 1s 2ms/step - loss: 0.1824 - accuracy: 0.9457\n",
      "Epoch 3/5\n",
      "625/625 [==============================] - 1s 2ms/step - loss: 0.1350 - accuracy: 0.9595\n",
      "Epoch 4/5\n",
      "625/625 [==============================] - 1s 2ms/step - loss: 0.1059 - accuracy: 0.9686\n",
      "Epoch 5/5\n",
      "625/625 [==============================] - 1s 2ms/step - loss: 0.0895 - accuracy: 0.9733\n",
      "313/313 [==============================] - 0s 1ms/step\n",
      "Epoch 1/3\n",
      "313/313 [==============================] - 1s 2ms/step - loss: 0.4893 - accuracy: 0.8620\n",
      "Epoch 2/3\n",
      "313/313 [==============================] - 1s 2ms/step - loss: 0.2071 - accuracy: 0.9398\n",
      "Epoch 3/3\n",
      "313/313 [==============================] - 1s 2ms/step - loss: 0.1561 - accuracy: 0.9545\n",
      "157/157 [==============================] - 0s 2ms/step\n",
      "Epoch 1/3\n",
      "313/313 [==============================] - 2s 3ms/step - loss: 0.5148 - accuracy: 0.8556\n",
      "Epoch 2/3\n",
      "313/313 [==============================] - 1s 2ms/step - loss: 0.2073 - accuracy: 0.9405\n",
      "Epoch 3/3\n",
      "313/313 [==============================] - 1s 3ms/step - loss: 0.1608 - accuracy: 0.9533\n",
      "157/157 [==============================] - 0s 2ms/step\n",
      "Epoch 1/3\n",
      "313/313 [==============================] - 2s 3ms/step - loss: 0.5091 - accuracy: 0.8554\n",
      "Epoch 2/3\n",
      "313/313 [==============================] - 1s 3ms/step - loss: 0.2007 - accuracy: 0.9427\n",
      "Epoch 3/3\n",
      "313/313 [==============================] - 1s 3ms/step - loss: 0.1517 - accuracy: 0.9555\n",
      "157/157 [==============================] - 0s 2ms/step\n",
      "Epoch 1/3\n",
      "313/313 [==============================] - 2s 3ms/step - loss: 0.5488 - accuracy: 0.8436\n",
      "Epoch 2/3\n",
      "313/313 [==============================] - 1s 3ms/step - loss: 0.2086 - accuracy: 0.9410\n",
      "Epoch 3/3\n",
      "313/313 [==============================] - 1s 3ms/step - loss: 0.1605 - accuracy: 0.9533\n",
      "157/157 [==============================] - 0s 2ms/step\n",
      "Epoch 1/3\n",
      "313/313 [==============================] - 2s 3ms/step - loss: 0.5061 - accuracy: 0.8584\n",
      "Epoch 2/3\n",
      "313/313 [==============================] - 1s 3ms/step - loss: 0.2118 - accuracy: 0.9390\n",
      "Epoch 3/3\n",
      "313/313 [==============================] - 1s 3ms/step - loss: 0.1586 - accuracy: 0.9543\n",
      "157/157 [==============================] - 0s 2ms/step\n",
      "Epoch 1/3\n",
      "313/313 [==============================] - 2s 3ms/step - loss: 0.5009 - accuracy: 0.8619\n",
      "Epoch 2/3\n",
      "313/313 [==============================] - 1s 3ms/step - loss: 0.2086 - accuracy: 0.9394\n",
      "Epoch 3/3\n",
      "313/313 [==============================] - 1s 3ms/step - loss: 0.1579 - accuracy: 0.9537\n",
      "157/157 [==============================] - 0s 2ms/step\n",
      "Epoch 1/3\n",
      "313/313 [==============================] - 1s 3ms/step - loss: 0.4884 - accuracy: 0.8632\n",
      "Epoch 2/3\n",
      "313/313 [==============================] - 1s 3ms/step - loss: 0.2090 - accuracy: 0.9398\n",
      "Epoch 3/3\n",
      "313/313 [==============================] - 1s 3ms/step - loss: 0.1602 - accuracy: 0.9518\n",
      "157/157 [==============================] - 0s 2ms/step\n",
      "Epoch 1/3\n",
      "313/313 [==============================] - 2s 3ms/step - loss: 0.4966 - accuracy: 0.8577\n",
      "Epoch 2/3\n",
      "313/313 [==============================] - 1s 3ms/step - loss: 0.2062 - accuracy: 0.9406\n",
      "Epoch 3/3\n",
      "313/313 [==============================] - 1s 3ms/step - loss: 0.1583 - accuracy: 0.9540\n",
      "157/157 [==============================] - 0s 2ms/step\n",
      "Epoch 1/3\n",
      "313/313 [==============================] - 2s 3ms/step - loss: 0.4955 - accuracy: 0.8583\n",
      "Epoch 2/3\n",
      "313/313 [==============================] - 1s 3ms/step - loss: 0.2129 - accuracy: 0.9388\n",
      "Epoch 3/3\n",
      "313/313 [==============================] - 1s 3ms/step - loss: 0.1622 - accuracy: 0.9522\n",
      "157/157 [==============================] - 0s 2ms/step\n",
      "Epoch 1/5\n",
      "313/313 [==============================] - 2s 3ms/step - loss: 0.5191 - accuracy: 0.8479\n",
      "Epoch 2/5\n",
      "313/313 [==============================] - 1s 3ms/step - loss: 0.2038 - accuracy: 0.9416\n",
      "Epoch 3/5\n",
      "313/313 [==============================] - 1s 2ms/step - loss: 0.1553 - accuracy: 0.9555\n",
      "Epoch 4/5\n",
      "313/313 [==============================] - 1s 3ms/step - loss: 0.1270 - accuracy: 0.9637\n",
      "Epoch 5/5\n",
      "313/313 [==============================] - 1s 3ms/step - loss: 0.1071 - accuracy: 0.9683\n",
      "157/157 [==============================] - 0s 2ms/step\n",
      "Epoch 1/5\n",
      "313/313 [==============================] - 2s 3ms/step - loss: 0.4893 - accuracy: 0.8667\n",
      "Epoch 2/5\n",
      "313/313 [==============================] - 1s 3ms/step - loss: 0.2147 - accuracy: 0.9384\n",
      "Epoch 3/5\n",
      "313/313 [==============================] - 1s 2ms/step - loss: 0.1615 - accuracy: 0.9538\n",
      "Epoch 4/5\n",
      "313/313 [==============================] - 1s 3ms/step - loss: 0.1331 - accuracy: 0.9604\n",
      "Epoch 5/5\n",
      "313/313 [==============================] - 1s 3ms/step - loss: 0.1114 - accuracy: 0.9672\n",
      "157/157 [==============================] - 0s 2ms/step\n",
      "Epoch 1/5\n",
      "313/313 [==============================] - 2s 3ms/step - loss: 0.5458 - accuracy: 0.8488\n",
      "Epoch 2/5\n",
      "313/313 [==============================] - 1s 3ms/step - loss: 0.2085 - accuracy: 0.9401\n",
      "Epoch 3/5\n",
      "313/313 [==============================] - 1s 3ms/step - loss: 0.1575 - accuracy: 0.9552\n",
      "Epoch 4/5\n",
      "313/313 [==============================] - 1s 3ms/step - loss: 0.1274 - accuracy: 0.9635\n",
      "Epoch 5/5\n",
      "313/313 [==============================] - 1s 3ms/step - loss: 0.1062 - accuracy: 0.9689\n",
      "157/157 [==============================] - 0s 2ms/step\n",
      "Epoch 1/5\n",
      "313/313 [==============================] - 1s 3ms/step - loss: 0.5101 - accuracy: 0.8577\n",
      "Epoch 2/5\n",
      "313/313 [==============================] - 1s 2ms/step - loss: 0.2155 - accuracy: 0.9388\n",
      "Epoch 3/5\n",
      "313/313 [==============================] - 1s 2ms/step - loss: 0.1601 - accuracy: 0.9538\n",
      "Epoch 4/5\n",
      "313/313 [==============================] - 1s 3ms/step - loss: 0.1284 - accuracy: 0.9625\n",
      "Epoch 5/5\n",
      "313/313 [==============================] - 1s 2ms/step - loss: 0.1084 - accuracy: 0.9684\n",
      "157/157 [==============================] - 0s 2ms/step\n",
      "Epoch 1/5\n",
      "313/313 [==============================] - 1s 3ms/step - loss: 0.5237 - accuracy: 0.8527\n",
      "Epoch 2/5\n",
      "313/313 [==============================] - 1s 3ms/step - loss: 0.2074 - accuracy: 0.9406\n",
      "Epoch 3/5\n",
      "313/313 [==============================] - 1s 3ms/step - loss: 0.1601 - accuracy: 0.9549\n",
      "Epoch 4/5\n",
      "313/313 [==============================] - 1s 3ms/step - loss: 0.1302 - accuracy: 0.9622\n",
      "Epoch 5/5\n",
      "313/313 [==============================] - 1s 2ms/step - loss: 0.1089 - accuracy: 0.9679\n",
      "157/157 [==============================] - 0s 1ms/step\n",
      "Epoch 1/5\n",
      "313/313 [==============================] - 1s 2ms/step - loss: 0.5098 - accuracy: 0.8590\n",
      "Epoch 2/5\n",
      "313/313 [==============================] - 1s 2ms/step - loss: 0.2170 - accuracy: 0.9379\n",
      "Epoch 3/5\n",
      "313/313 [==============================] - 1s 2ms/step - loss: 0.1647 - accuracy: 0.9528\n",
      "Epoch 4/5\n",
      "313/313 [==============================] - 1s 2ms/step - loss: 0.1322 - accuracy: 0.9615\n",
      "Epoch 5/5\n",
      "313/313 [==============================] - 1s 3ms/step - loss: 0.1089 - accuracy: 0.9681\n",
      "157/157 [==============================] - 0s 1ms/step\n",
      "Epoch 1/5\n",
      "313/313 [==============================] - 1s 3ms/step - loss: 0.5313 - accuracy: 0.8493\n",
      "Epoch 2/5\n",
      "313/313 [==============================] - 1s 3ms/step - loss: 0.2148 - accuracy: 0.9388\n",
      "Epoch 3/5\n",
      "313/313 [==============================] - 1s 3ms/step - loss: 0.1617 - accuracy: 0.9540\n",
      "Epoch 4/5\n",
      "313/313 [==============================] - 1s 3ms/step - loss: 0.1329 - accuracy: 0.9615\n",
      "Epoch 5/5\n",
      "313/313 [==============================] - 1s 2ms/step - loss: 0.1104 - accuracy: 0.9675\n",
      "157/157 [==============================] - 0s 1ms/step\n",
      "Epoch 1/5\n",
      "313/313 [==============================] - 1s 3ms/step - loss: 0.5066 - accuracy: 0.8547\n",
      "Epoch 2/5\n",
      "313/313 [==============================] - 1s 3ms/step - loss: 0.2030 - accuracy: 0.9423\n",
      "Epoch 3/5\n",
      "313/313 [==============================] - 1s 3ms/step - loss: 0.1586 - accuracy: 0.9543\n",
      "Epoch 4/5\n",
      "313/313 [==============================] - 1s 3ms/step - loss: 0.1294 - accuracy: 0.9620\n",
      "Epoch 5/5\n",
      "313/313 [==============================] - 1s 3ms/step - loss: 0.1092 - accuracy: 0.9671\n",
      "157/157 [==============================] - 0s 2ms/step\n",
      "Epoch 1/5\n",
      "313/313 [==============================] - 1s 3ms/step - loss: 0.5122 - accuracy: 0.8579\n",
      "Epoch 2/5\n",
      "313/313 [==============================] - 1s 3ms/step - loss: 0.2036 - accuracy: 0.9416\n",
      "Epoch 3/5\n",
      "313/313 [==============================] - 1s 2ms/step - loss: 0.1488 - accuracy: 0.9562\n",
      "Epoch 4/5\n",
      "313/313 [==============================] - 1s 3ms/step - loss: 0.1199 - accuracy: 0.9644\n",
      "Epoch 5/5\n",
      "313/313 [==============================] - 1s 3ms/step - loss: 0.1015 - accuracy: 0.9707\n",
      "157/157 [==============================] - 0s 2ms/step\n",
      "Epoch 1/3\n",
      "157/157 [==============================] - 1s 3ms/step - loss: 0.6861 - accuracy: 0.8020\n",
      "Epoch 2/3\n",
      "157/157 [==============================] - 0s 3ms/step - loss: 0.2572 - accuracy: 0.9269\n",
      "Epoch 3/3\n",
      "157/157 [==============================] - 0s 3ms/step - loss: 0.2015 - accuracy: 0.9424\n",
      "79/79 [==============================] - 0s 2ms/step\n",
      "Epoch 1/3\n",
      "157/157 [==============================] - 2s 4ms/step - loss: 0.6560 - accuracy: 0.8201\n",
      "Epoch 2/3\n",
      "157/157 [==============================] - 1s 4ms/step - loss: 0.2394 - accuracy: 0.9320\n",
      "Epoch 3/3\n",
      "157/157 [==============================] - 1s 4ms/step - loss: 0.1855 - accuracy: 0.9473\n",
      "79/79 [==============================] - 0s 3ms/step\n",
      "Epoch 1/3\n",
      "157/157 [==============================] - 1s 4ms/step - loss: 0.6322 - accuracy: 0.8329\n",
      "Epoch 2/3\n",
      "157/157 [==============================] - 1s 4ms/step - loss: 0.2561 - accuracy: 0.9282\n",
      "Epoch 3/3\n",
      "157/157 [==============================] - 1s 4ms/step - loss: 0.2002 - accuracy: 0.9428\n",
      "79/79 [==============================] - 0s 3ms/step\n",
      "Epoch 1/3\n",
      "157/157 [==============================] - 1s 4ms/step - loss: 0.6613 - accuracy: 0.8120\n",
      "Epoch 2/3\n",
      "157/157 [==============================] - 1s 4ms/step - loss: 0.2628 - accuracy: 0.9243\n",
      "Epoch 3/3\n",
      "157/157 [==============================] - 1s 4ms/step - loss: 0.2055 - accuracy: 0.9405\n",
      "79/79 [==============================] - 0s 3ms/step\n",
      "Epoch 1/3\n",
      "157/157 [==============================] - 1s 4ms/step - loss: 0.6361 - accuracy: 0.8283\n",
      "Epoch 2/3\n",
      "157/157 [==============================] - 1s 4ms/step - loss: 0.2313 - accuracy: 0.9340\n",
      "Epoch 3/3\n",
      "157/157 [==============================] - 1s 4ms/step - loss: 0.1806 - accuracy: 0.9488\n",
      "79/79 [==============================] - 0s 3ms/step\n",
      "Epoch 1/3\n",
      "157/157 [==============================] - 1s 4ms/step - loss: 0.6696 - accuracy: 0.8183\n",
      "Epoch 2/3\n",
      "157/157 [==============================] - 1s 4ms/step - loss: 0.2447 - accuracy: 0.9298\n",
      "Epoch 3/3\n",
      "157/157 [==============================] - 1s 4ms/step - loss: 0.1871 - accuracy: 0.9464\n",
      "79/79 [==============================] - 0s 2ms/step\n",
      "Epoch 1/3\n",
      "157/157 [==============================] - 1s 4ms/step - loss: 0.7181 - accuracy: 0.7995\n",
      "Epoch 2/3\n",
      "157/157 [==============================] - 1s 4ms/step - loss: 0.2588 - accuracy: 0.9262\n",
      "Epoch 3/3\n",
      "157/157 [==============================] - 1s 3ms/step - loss: 0.2015 - accuracy: 0.9423\n",
      "79/79 [==============================] - 0s 2ms/step\n",
      "Epoch 1/3\n",
      "157/157 [==============================] - 1s 3ms/step - loss: 0.6974 - accuracy: 0.8122\n",
      "Epoch 2/3\n",
      "157/157 [==============================] - 1s 3ms/step - loss: 0.2647 - accuracy: 0.9257\n",
      "Epoch 3/3\n",
      "157/157 [==============================] - 1s 3ms/step - loss: 0.2073 - accuracy: 0.9416\n",
      "79/79 [==============================] - 0s 2ms/step\n",
      "Epoch 1/3\n",
      "157/157 [==============================] - 1s 3ms/step - loss: 0.6818 - accuracy: 0.8126\n",
      "Epoch 2/3\n",
      "157/157 [==============================] - 1s 4ms/step - loss: 0.2458 - accuracy: 0.9302\n",
      "Epoch 3/3\n",
      "157/157 [==============================] - 0s 3ms/step - loss: 0.1891 - accuracy: 0.9447\n",
      "79/79 [==============================] - 0s 2ms/step\n",
      "Epoch 1/5\n",
      "157/157 [==============================] - 1s 3ms/step - loss: 0.6510 - accuracy: 0.8208\n",
      "Epoch 2/5\n",
      "157/157 [==============================] - 1s 3ms/step - loss: 0.2468 - accuracy: 0.9287\n",
      "Epoch 3/5\n",
      "157/157 [==============================] - 1s 3ms/step - loss: 0.1973 - accuracy: 0.9417\n",
      "Epoch 4/5\n",
      "157/157 [==============================] - 0s 3ms/step - loss: 0.1663 - accuracy: 0.9520\n",
      "Epoch 5/5\n",
      "157/157 [==============================] - 0s 3ms/step - loss: 0.1450 - accuracy: 0.9578\n",
      "79/79 [==============================] - 0s 2ms/step\n",
      "Epoch 1/5\n",
      "157/157 [==============================] - 1s 3ms/step - loss: 0.6493 - accuracy: 0.8221\n",
      "Epoch 2/5\n",
      "157/157 [==============================] - 0s 3ms/step - loss: 0.2467 - accuracy: 0.9287\n",
      "Epoch 3/5\n",
      "157/157 [==============================] - 0s 3ms/step - loss: 0.1927 - accuracy: 0.9440\n",
      "Epoch 4/5\n",
      "157/157 [==============================] - 1s 3ms/step - loss: 0.1606 - accuracy: 0.9538\n",
      "Epoch 5/5\n",
      "157/157 [==============================] - 1s 3ms/step - loss: 0.1374 - accuracy: 0.9605\n",
      "79/79 [==============================] - 0s 2ms/step\n",
      "Epoch 1/5\n",
      "157/157 [==============================] - 1s 3ms/step - loss: 0.6821 - accuracy: 0.8056\n",
      "Epoch 2/5\n",
      "157/157 [==============================] - 1s 3ms/step - loss: 0.2543 - accuracy: 0.9270\n",
      "Epoch 3/5\n",
      "157/157 [==============================] - 1s 3ms/step - loss: 0.1976 - accuracy: 0.9423\n",
      "Epoch 4/5\n",
      "157/157 [==============================] - 0s 3ms/step - loss: 0.1655 - accuracy: 0.9513\n",
      "Epoch 5/5\n",
      "157/157 [==============================] - 0s 3ms/step - loss: 0.1420 - accuracy: 0.9587\n",
      "79/79 [==============================] - 0s 2ms/step\n",
      "Epoch 1/5\n",
      "157/157 [==============================] - 1s 3ms/step - loss: 0.6428 - accuracy: 0.8218\n",
      "Epoch 2/5\n",
      "157/157 [==============================] - 0s 3ms/step - loss: 0.2495 - accuracy: 0.9279\n",
      "Epoch 3/5\n",
      "157/157 [==============================] - 0s 3ms/step - loss: 0.1907 - accuracy: 0.9457\n",
      "Epoch 4/5\n",
      "157/157 [==============================] - 0s 3ms/step - loss: 0.1591 - accuracy: 0.9540\n",
      "Epoch 5/5\n",
      "157/157 [==============================] - 1s 3ms/step - loss: 0.1345 - accuracy: 0.9610\n",
      "79/79 [==============================] - 0s 2ms/step\n",
      "Epoch 1/5\n",
      "157/157 [==============================] - 1s 3ms/step - loss: 0.6667 - accuracy: 0.8133\n",
      "Epoch 2/5\n",
      "157/157 [==============================] - 1s 3ms/step - loss: 0.2489 - accuracy: 0.9307\n",
      "Epoch 3/5\n",
      "157/157 [==============================] - 0s 3ms/step - loss: 0.1944 - accuracy: 0.9451\n",
      "Epoch 4/5\n",
      "157/157 [==============================] - 0s 3ms/step - loss: 0.1616 - accuracy: 0.9538\n",
      "Epoch 5/5\n",
      "157/157 [==============================] - 0s 3ms/step - loss: 0.1388 - accuracy: 0.9609\n",
      "79/79 [==============================] - 0s 2ms/step\n",
      "Epoch 1/5\n",
      "157/157 [==============================] - 1s 3ms/step - loss: 0.7600 - accuracy: 0.7818\n",
      "Epoch 2/5\n",
      "157/157 [==============================] - 0s 3ms/step - loss: 0.2529 - accuracy: 0.9283\n",
      "Epoch 3/5\n",
      "157/157 [==============================] - 0s 3ms/step - loss: 0.1906 - accuracy: 0.9451\n",
      "Epoch 4/5\n",
      "157/157 [==============================] - 0s 3ms/step - loss: 0.1558 - accuracy: 0.9552\n",
      "Epoch 5/5\n",
      "157/157 [==============================] - 0s 3ms/step - loss: 0.1308 - accuracy: 0.9614\n",
      "79/79 [==============================] - 0s 2ms/step\n",
      "0.9614833333333334 {'batch_size': 64, 'epochs': 5, 'optimizer': 'Nadam'}\n"
     ]
    },
    {
     "name": "stderr",
     "output_type": "stream",
     "text": [
      "C:\\Users\\Homin\\Documents\\Education\\INS\\DZ2\\venv\\lib\\site-packages\\sklearn\\model_selection\\_validation.py:547: FitFailedWarning: \n",
      "3 fits failed out of a total of 54.\n",
      "The score on these train-test partitions for these parameters will be set to nan.\n",
      "If these failures are not expected, you can try to debug them by setting error_score='raise'.\n",
      "\n",
      "Below are more details about the failures:\n",
      "--------------------------------------------------------------------------------\n",
      "3 fits failed with the following error:\n",
      "Traceback (most recent call last):\n",
      "  File \"C:\\Users\\Homin\\Documents\\Education\\INS\\DZ2\\venv\\lib\\site-packages\\sklearn\\model_selection\\_validation.py\", line 895, in _fit_and_score\n",
      "    estimator.fit(X_train, y_train, **fit_params)\n",
      "  File \"C:\\Users\\Homin\\Documents\\Education\\INS\\DZ2\\venv\\lib\\site-packages\\scikeras\\wrappers.py\", line 1491, in fit\n",
      "    super().fit(X=X, y=y, sample_weight=sample_weight, **kwargs)\n",
      "  File \"C:\\Users\\Homin\\Documents\\Education\\INS\\DZ2\\venv\\lib\\site-packages\\scikeras\\wrappers.py\", line 760, in fit\n",
      "    self._fit(\n",
      "  File \"C:\\Users\\Homin\\Documents\\Education\\INS\\DZ2\\venv\\lib\\site-packages\\scikeras\\wrappers.py\", line 928, in _fit\n",
      "    self._fit_keras_model(\n",
      "  File \"C:\\Users\\Homin\\Documents\\Education\\INS\\DZ2\\venv\\lib\\site-packages\\scikeras\\wrappers.py\", line 524, in _fit_keras_model\n",
      "    hist = self.model_.fit(x=X, y=y, **fit_args)\n",
      "  File \"C:\\Users\\Homin\\Documents\\Education\\INS\\DZ2\\venv\\lib\\site-packages\\keras\\utils\\traceback_utils.py\", line 70, in error_handler\n",
      "    raise e.with_traceback(filtered_tb) from None\n",
      "  File \"C:\\Users\\Homin\\Documents\\Education\\INS\\DZ2\\venv\\lib\\site-packages\\tensorflow\\python\\framework\\constant_op.py\", line 103, in convert_to_eager_tensor\n",
      "    return ops.EagerTensor(value, ctx.device_name, dtype)\n",
      "numpy.core._exceptions._ArrayMemoryError: Unable to allocate 120. MiB for an array with shape (40000, 784) and data type float32\n",
      "\n",
      "  warnings.warn(some_fits_failed_message, FitFailedWarning)\n",
      "C:\\Users\\Homin\\Documents\\Education\\INS\\DZ2\\venv\\lib\\site-packages\\sklearn\\model_selection\\_search.py:1051: UserWarning: One or more of the test scores are non-finite: [0.95031667 0.95576667 0.95686667 0.95943333 0.96118333 0.96148333\n",
      " 0.95358333 0.95086667 0.95155    0.95891667 0.96011667 0.95713333\n",
      " 0.94321667 0.94488333 0.9417     0.95208333 0.9542            nan]\n",
      "  warnings.warn(\n"
     ]
    }
   ],
   "source": [
    "model = KerasClassifier(create_model)\n",
    "params= dict(batch_size=batch_size, epochs=epochs, optimizer=optimizer)\n",
    "grid = GridSearchCV(model, params, refit=False, cv=3, scoring='accuracy')\n",
    "\n",
    "grid_result = grid.fit(train_images, to_categorical(train_labels))\n",
    "print(grid_result.best_score_, grid_result.best_params_)"
   ]
  },
  {
   "cell_type": "code",
   "execution_count": 35,
   "metadata": {
    "colab": {
     "base_uri": "https://localhost:8080/"
    },
    "id": "3C4hTkQLVW47",
    "outputId": "fa031571-485c-4f78-8d33-b77e65a235dd",
    "pycharm": {
     "name": "#%%\n"
    }
   },
   "outputs": [
    {
     "name": "stdout",
     "output_type": "stream",
     "text": [
      "0.9614833333333334 {'batch_size': 64, 'epochs': 5, 'optimizer': 'Nadam'}\n"
     ]
    }
   ],
   "source": [
    "print(grid_result.best_score_, grid_result.best_params_)"
   ]
  },
  {
   "cell_type": "code",
   "execution_count": 36,
   "metadata": {
    "id": "ifbRq739Ryq1",
    "pycharm": {
     "name": "#%%\n"
    }
   },
   "outputs": [],
   "source": [
    "df = pd.DataFrame(grid_result.cv_results_)"
   ]
  },
  {
   "cell_type": "code",
   "execution_count": 37,
   "metadata": {
    "colab": {
     "base_uri": "https://localhost:8080/",
     "height": 363
    },
    "id": "0DzPNSt8V7i5",
    "outputId": "9398d484-7616-4e80-aaac-254cf4b2b9e4",
    "pycharm": {
     "name": "#%%\n"
    }
   },
   "outputs": [
    {
     "data": {
      "text/plain": "   param_batch_size param_epochs param_optimizer  mean_test_score\n5                64            5           Nadam         0.961483\n4                64            5            Adam         0.961183\n10              128            5            Adam         0.960117\n3                64            5         RMSprop         0.959433\n9               128            5         RMSprop         0.958917\n11              128            5           Nadam         0.957133\n2                64            3           Nadam         0.956867\n1                64            3            Adam         0.955767\n16              256            5            Adam         0.954200\n6               128            3         RMSprop         0.953583",
      "text/html": "<div>\n<style scoped>\n    .dataframe tbody tr th:only-of-type {\n        vertical-align: middle;\n    }\n\n    .dataframe tbody tr th {\n        vertical-align: top;\n    }\n\n    .dataframe thead th {\n        text-align: right;\n    }\n</style>\n<table border=\"1\" class=\"dataframe\">\n  <thead>\n    <tr style=\"text-align: right;\">\n      <th></th>\n      <th>param_batch_size</th>\n      <th>param_epochs</th>\n      <th>param_optimizer</th>\n      <th>mean_test_score</th>\n    </tr>\n  </thead>\n  <tbody>\n    <tr>\n      <th>5</th>\n      <td>64</td>\n      <td>5</td>\n      <td>Nadam</td>\n      <td>0.961483</td>\n    </tr>\n    <tr>\n      <th>4</th>\n      <td>64</td>\n      <td>5</td>\n      <td>Adam</td>\n      <td>0.961183</td>\n    </tr>\n    <tr>\n      <th>10</th>\n      <td>128</td>\n      <td>5</td>\n      <td>Adam</td>\n      <td>0.960117</td>\n    </tr>\n    <tr>\n      <th>3</th>\n      <td>64</td>\n      <td>5</td>\n      <td>RMSprop</td>\n      <td>0.959433</td>\n    </tr>\n    <tr>\n      <th>9</th>\n      <td>128</td>\n      <td>5</td>\n      <td>RMSprop</td>\n      <td>0.958917</td>\n    </tr>\n    <tr>\n      <th>11</th>\n      <td>128</td>\n      <td>5</td>\n      <td>Nadam</td>\n      <td>0.957133</td>\n    </tr>\n    <tr>\n      <th>2</th>\n      <td>64</td>\n      <td>3</td>\n      <td>Nadam</td>\n      <td>0.956867</td>\n    </tr>\n    <tr>\n      <th>1</th>\n      <td>64</td>\n      <td>3</td>\n      <td>Adam</td>\n      <td>0.955767</td>\n    </tr>\n    <tr>\n      <th>16</th>\n      <td>256</td>\n      <td>5</td>\n      <td>Adam</td>\n      <td>0.954200</td>\n    </tr>\n    <tr>\n      <th>6</th>\n      <td>128</td>\n      <td>3</td>\n      <td>RMSprop</td>\n      <td>0.953583</td>\n    </tr>\n  </tbody>\n</table>\n</div>"
     },
     "execution_count": 37,
     "metadata": {},
     "output_type": "execute_result"
    }
   ],
   "source": [
    "df.sort_values(['mean_test_score'],ascending=False)[['param_batch_size','param_epochs','param_optimizer','mean_test_score']].head(10)"
   ]
  },
  {
   "cell_type": "markdown",
   "metadata": {
    "id": "4wrbUL7ZrgRQ",
    "pycharm": {
     "name": "#%% md\n"
    }
   },
   "source": [
    "ДОМАШНЕЕ ЗАДАНИЕ\n"
   ]
  },
  {
   "cell_type": "code",
   "execution_count": 45,
   "metadata": {
    "id": "4p4EVICPrxMx",
    "pycharm": {
     "name": "#%%\n"
    }
   },
   "outputs": [],
   "source": [
    "# поменяла оптимизатор, изменяю количество нейронов"
   ]
  },
  {
   "cell_type": "code",
   "execution_count": 123,
   "metadata": {
    "id": "7FMdBaCqrxvw",
    "pycharm": {
     "name": "#%%\n"
    }
   },
   "outputs": [],
   "source": [
    "\n",
    "def my_model(optimizer='Nadam'):\n",
    "    model = Sequential([\n",
    "      Dense(128, input_shape=(784,), activation='relu'),\n",
    "      Dense(32, activation='relu'),\n",
    "      Dense(10, activation='softmax')\n",
    "    ])\n",
    "\n",
    "    # Compile the model.\n",
    "    model.compile(\n",
    "      optimizer=optimizer,\n",
    "      loss='categorical_crossentropy',\n",
    "      metrics=['accuracy'],\n",
    "    )\n",
    "    return model"
   ]
  },
  {
   "cell_type": "code",
   "execution_count": 124,
   "metadata": {
    "colab": {
     "base_uri": "https://localhost:8080/"
    },
    "id": "sZP_XxBW3xnE",
    "outputId": "ecef822f-7675-4be3-bf52-dbcbbcdb4520",
    "pycharm": {
     "name": "#%%\n"
    }
   },
   "outputs": [
    {
     "data": {
      "text/plain": "array([[0., 0., 0., ..., 1., 0., 0.],\n       [0., 0., 1., ..., 0., 0., 0.],\n       [0., 1., 0., ..., 0., 0., 0.],\n       ...,\n       [0., 0., 0., ..., 0., 0., 0.],\n       [0., 0., 0., ..., 0., 0., 0.],\n       [0., 0., 0., ..., 0., 0., 0.]], dtype=float32)"
     },
     "execution_count": 124,
     "metadata": {},
     "output_type": "execute_result"
    }
   ],
   "source": [
    "to_categorical(test_labels)"
   ]
  },
  {
   "cell_type": "code",
   "execution_count": 125,
   "metadata": {
    "colab": {
     "base_uri": "https://localhost:8080/"
    },
    "id": "yNvvg9f_sAGv",
    "outputId": "6ace17cc-a91d-432b-929d-c19cd7555e87",
    "pycharm": {
     "name": "#%%\n"
    }
   },
   "outputs": [
    {
     "name": "stdout",
     "output_type": "stream",
     "text": [
      "Epoch 1/5\n",
      "750/750 [==============================] - 4s 3ms/step - loss: 0.3329 - accuracy: 0.9069 - val_loss: 0.1749 - val_accuracy: 0.9511\n",
      "Epoch 2/5\n",
      "750/750 [==============================] - 2s 3ms/step - loss: 0.1349 - accuracy: 0.9602 - val_loss: 0.1323 - val_accuracy: 0.9616\n",
      "Epoch 3/5\n",
      "750/750 [==============================] - 2s 3ms/step - loss: 0.0923 - accuracy: 0.9731 - val_loss: 0.1007 - val_accuracy: 0.9697\n",
      "Epoch 4/5\n",
      "750/750 [==============================] - 2s 3ms/step - loss: 0.0697 - accuracy: 0.9788 - val_loss: 0.1073 - val_accuracy: 0.9690\n",
      "Epoch 5/5\n",
      "750/750 [==============================] - 2s 3ms/step - loss: 0.0540 - accuracy: 0.9835 - val_loss: 0.0936 - val_accuracy: 0.9720\n",
      "313/313 [==============================] - 0s 1ms/step - loss: 0.0845 - accuracy: 0.9747\n",
      "**************\n",
      "Loss - 0.08, Metrics - 0.975\n"
     ]
    }
   ],
   "source": [
    "dz_model = my_model()\n",
    "\n",
    "# Train the model.\n",
    "dz_model.fit(train_images, to_categorical(train_labels), epochs=5, batch_size=64, validation_split=0.2)\n",
    "\n",
    "# Evaluate the model.\n",
    "loss,metrics = dz_model.evaluate(test_images, to_categorical(test_labels))\n",
    "print('**************')\n",
    "print(f'Loss - {np.round(loss,2)}, Metrics - {np.round(metrics,3)}')"
   ]
  },
  {
   "cell_type": "code",
   "execution_count": 126,
   "metadata": {
    "id": "-iqSKKLpD92n",
    "pycharm": {
     "name": "#%%\n"
    }
   },
   "outputs": [
    {
     "name": "stdout",
     "output_type": "stream",
     "text": [
      "Epoch 1/3\n",
      "1500/1500 [==============================] - 5s 3ms/step - loss: 0.2744 - accuracy: 0.9204 - val_loss: 0.1439 - val_accuracy: 0.9563\n",
      "Epoch 2/3\n",
      "1500/1500 [==============================] - 4s 3ms/step - loss: 0.1140 - accuracy: 0.9656 - val_loss: 0.1121 - val_accuracy: 0.9672\n",
      "Epoch 3/3\n",
      "1500/1500 [==============================] - 4s 3ms/step - loss: 0.0771 - accuracy: 0.9766 - val_loss: 0.0977 - val_accuracy: 0.9706\n",
      "313/313 [==============================] - 1s 1ms/step - loss: 0.0908 - accuracy: 0.9706\n",
      "**************\n",
      "Loss - 0.09, Metrics - 0.971\n"
     ]
    }
   ],
   "source": [
    "dz_model1 = my_model()\n",
    "\n",
    "# Train the model.\n",
    "dz_model1.fit(train_images, to_categorical(train_labels), epochs=3, batch_size=32, validation_split=0.2)\n",
    "\n",
    "# Evaluate the model.\n",
    "loss,metrics = dz_model1.evaluate(test_images, to_categorical(test_labels))\n",
    "print('**************')\n",
    "print(f'Loss - {np.round(loss,2)}, Metrics - {np.round(metrics,3)}')"
   ]
  },
  {
   "cell_type": "code",
   "execution_count": 127,
   "metadata": {
    "id": "ZE_3ezhyFE_j",
    "pycharm": {
     "name": "#%%\n"
    }
   },
   "outputs": [
    {
     "name": "stdout",
     "output_type": "stream",
     "text": [
      "Epoch 1/10\n",
      "375/375 [==============================] - 2s 4ms/step - loss: 0.4241 - accuracy: 0.8806 - val_loss: 0.1831 - val_accuracy: 0.9482\n",
      "Epoch 2/10\n",
      "375/375 [==============================] - 1s 3ms/step - loss: 0.1606 - accuracy: 0.9532 - val_loss: 0.1377 - val_accuracy: 0.9582\n",
      "Epoch 3/10\n",
      "375/375 [==============================] - 1s 3ms/step - loss: 0.1132 - accuracy: 0.9664 - val_loss: 0.1175 - val_accuracy: 0.9653\n",
      "Epoch 4/10\n",
      "375/375 [==============================] - 1s 3ms/step - loss: 0.0861 - accuracy: 0.9742 - val_loss: 0.1065 - val_accuracy: 0.9687\n",
      "Epoch 5/10\n",
      "375/375 [==============================] - 1s 3ms/step - loss: 0.0676 - accuracy: 0.9806 - val_loss: 0.1057 - val_accuracy: 0.9684\n",
      "Epoch 6/10\n",
      "375/375 [==============================] - 1s 3ms/step - loss: 0.0547 - accuracy: 0.9840 - val_loss: 0.0957 - val_accuracy: 0.9712\n",
      "Epoch 7/10\n",
      "375/375 [==============================] - 1s 3ms/step - loss: 0.0445 - accuracy: 0.9868 - val_loss: 0.0911 - val_accuracy: 0.9738\n",
      "Epoch 8/10\n",
      "375/375 [==============================] - 1s 3ms/step - loss: 0.0355 - accuracy: 0.9892 - val_loss: 0.0901 - val_accuracy: 0.9743\n",
      "Epoch 9/10\n",
      "375/375 [==============================] - 1s 3ms/step - loss: 0.0287 - accuracy: 0.9917 - val_loss: 0.0897 - val_accuracy: 0.9748\n",
      "Epoch 10/10\n",
      "375/375 [==============================] - 1s 3ms/step - loss: 0.0228 - accuracy: 0.9935 - val_loss: 0.0937 - val_accuracy: 0.9743\n",
      "313/313 [==============================] - 0s 1ms/step - loss: 0.0829 - accuracy: 0.9773\n",
      "**************\n",
      "Loss - 0.08, Metrics - 0.977\n"
     ]
    }
   ],
   "source": [
    "dz_model2 = my_model()\n",
    "\n",
    "# Train the model.\n",
    "dz_model2.fit(train_images, to_categorical(train_labels), epochs=10, batch_size=128, validation_split=0.2)\n",
    "\n",
    "# Evaluate the model.\n",
    "loss,metrics = dz_model2.evaluate(test_images, to_categorical(test_labels))\n",
    "print('**************')\n",
    "print(f'Loss - {np.round(loss,2)}, Metrics - {np.round(metrics,3)}')"
   ]
  },
  {
   "cell_type": "code",
   "execution_count": 130,
   "metadata": {
    "id": "TIGcLJ8gsS8K",
    "pycharm": {
     "name": "#%%\n"
    }
   },
   "outputs": [
    {
     "name": "stdout",
     "output_type": "stream",
     "text": [
      "1/1 [==============================] - 0s 23ms/step\n",
      "Predictions: [7 2 1 0 4 1 4 9 5 9 0 6 9 0 1 5 9 7 3 4 9 6 6 5 4 0 7 4 0 1]\n",
      "True labels: [7 2 1 0 4 1 4 9 5 9 0 6 9 0 1 5 9 7 3 4 9 6 6 5 4 0 7 4 0 1]\n"
     ]
    }
   ],
   "source": [
    "# Predict on the first 30 test images.\n",
    "predictions = dz_model2.predict(test_images[:30])\n",
    "\n",
    "# Print our model's predictions.\n",
    "print(f'Predictions: {np.argmax(predictions, axis=1)}')\n",
    "\n",
    "# Check our predictions against the ground truths.\n",
    "print(f'True labels: {test_labels[:30]}')\n"
   ]
  },
  {
   "cell_type": "markdown",
   "metadata": {
    "id": "slal29tMKhpf",
    "pycharm": {
     "name": "#%% md\n"
    }
   },
   "source": [
    "# Вывод:\n",
    "1 Увеличение числа нейронов в первом слое улучшает показатель метрики.\n",
    "2 Изменение оптимизатора на Nadam улучшает метрику.\n",
    "3 Увеличение количества эпох улучшает показатель метрики.\n",
    "4 Увеличение batch_size ускоряет обучение."
   ]
  }
 ],
 "metadata": {
  "accelerator": "GPU",
  "colab": {
   "provenance": []
  },
  "kernelspec": {
   "display_name": "Python 3",
   "name": "python3"
  },
  "language_info": {
   "codemirror_mode": {
    "name": "ipython",
    "version": 3
   },
   "file_extension": ".py",
   "mimetype": "text/x-python",
   "name": "python",
   "nbconvert_exporter": "python",
   "pygments_lexer": "ipython3",
   "version": "3.7.7"
  }
 },
 "nbformat": 4,
 "nbformat_minor": 0
}